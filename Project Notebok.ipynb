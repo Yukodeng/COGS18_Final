{
 "cells": [
  {
   "cell_type": "markdown",
   "metadata": {},
   "source": [
    "# Final Project: Galton Board"
   ]
  },
  {
   "cell_type": "markdown",
   "metadata": {},
   "source": [
    "The project idea is inspired by the statistical model of standard distribution in galton board game. Ideally, we use an infinite number of sands to let them fall into a pile that has standard distributed shape. But to see how probability works, we use balls that fall through triangular shaped \"pegs\" so that each move is a 50/50 probability of going left or right. If numbers of rows and balls are relatively large, we can observe pattern of standard distribution by repeating the game. "
   ]
  },
  {
   "cell_type": "markdown",
   "metadata": {},
   "source": [
    "The project is a modification of the original code: __http://rosettacode.org/wiki/Galton_box_animation#Python__\n",
    "\n",
    "There are some major changes:\n",
    "- For animation, I adopted ideas from A4-Artificial Agents to display the board as a 2d array of list and use clear_output() function to update screen after each ball move. \n",
    "- I added a part that player can adjust parameters to get different boards and ballcounts.\n",
    "- Function & variable names"
   ]
  },
  {
   "cell_type": "markdown",
   "metadata": {},
   "source": [
    "#### Now let's get started!"
   ]
  },
  {
   "cell_type": "code",
   "execution_count": 1,
   "metadata": {},
   "outputs": [],
   "source": [
    "from my_module import functions as f\n",
    "from time import sleep"
   ]
  },
  {
   "cell_type": "code",
   "execution_count": 2,
   "metadata": {},
   "outputs": [],
   "source": [
    "def init():\n",
    "    '''Print out the title display''' \n",
    "    print(\" ----------------------\")\n",
    "    print(\"|                      |\")\n",
    "    print(\"|     Galton Board     |\")\n",
    "    print(\"|                      |\")\n",
    "    print(\" ----------------------\\n\")\n",
    "\n",
    "\n",
    "def main():\n",
    "    '''The main function to run our galton board'''\n",
    "\n",
    "    # Ask for parameters from user.\n",
    "    is_int = True\n",
    "    while is_int:\n",
    "        try:\n",
    "            rows = int(input('\\nROWS: '))\n",
    "            balls = int(input('BALLCOUNT: '))\n",
    "            height = int(input('HEIGHT BELOW: ')) \n",
    "        # Check if inputs are integers \n",
    "        except:\n",
    "            print(f.choice(['\\tNope, please give me an integer','\\tTry again!']))\n",
    "        else:\n",
    "            # Check if input height is large enough \n",
    "            if height < balls/2:\n",
    "                print('\\tWe need more space:( try a larger number for HEIGHT BELOW')\n",
    "            else:\n",
    "                is_int = False\n",
    "    \n",
    "    # Create an instance. Set values of instance attributes to user input.\n",
    "    bd = f.Board(rows, balls, height)\n",
    "\n",
    "    # Print out, wait 0.2s, and update the board display.\n",
    "    bd.add_ball()\n",
    "    while bd.on_display():\n",
    "        bd.draw_board()\n",
    "        sleep(0.2)\n",
    "        bd.next_move()\n",
    "        bd.draw_board()\n",
    "        sleep(0.2)\n",
    "        bd.next_move()\n",
    "        bd.add_ball()   # Add one ball to board after two moves\n",
    "\n",
    "    # User can run program again by replying yes. \n",
    "    again = input('\\n\\nPlay agian? Press Y to restart:\\t')\n",
    "    if again == 'y' or again == 'Y':\n",
    "        main()\n",
    "    else:\n",
    "        print('\\n\\tThanks for playing. See you next time!\\n')\n"
   ]
  },
  {
   "cell_type": "code",
   "execution_count": null,
   "metadata": {},
   "outputs": [],
   "source": [
    "if __name__ == \"__main__\":\n",
    "    init()\n",
    "    main()"
   ]
  }
 ],
 "metadata": {
  "kernelspec": {
   "display_name": "Python 3",
   "language": "python",
   "name": "python3"
  },
  "language_info": {
   "codemirror_mode": {
    "name": "ipython",
    "version": 3
   },
   "file_extension": ".py",
   "mimetype": "text/x-python",
   "name": "python",
   "nbconvert_exporter": "python",
   "pygments_lexer": "ipython3",
   "version": "3.7.1"
  },
  "widgets": {
   "application/vnd.jupyter.widget-state+json": {
    "state": {},
    "version_major": 2,
    "version_minor": 0
   }
  }
 },
 "nbformat": 4,
 "nbformat_minor": 2
}
